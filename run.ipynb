{
 "cells": [
  {
   "cell_type": "code",
   "execution_count": 8,
   "metadata": {},
   "outputs": [],
   "source": [
    "import pickle"
   ]
  },
  {
   "cell_type": "code",
   "execution_count": 1,
   "metadata": {},
   "outputs": [],
   "source": [
    "%run ROC_maker.ipynb"
   ]
  },
  {
   "cell_type": "code",
   "execution_count": 6,
   "metadata": {},
   "outputs": [],
   "source": [
    "path='/home/salomon/Private/atlas/FTPF/Selector/output_files/debug/lxplus/'"
   ]
  },
  {
   "cell_type": "code",
   "execution_count": 17,
   "metadata": {},
   "outputs": [],
   "source": [
    "file_empflow='debug_bTag_AntiKt4EMPFlowJets_BTagging201903_DIAGjetlab.root'\n",
    "file_ghost='debug_bTag_AntiKtVR30Rmax4Rmin02TrackGhostTagJets_DIAGjetlab.root'\n",
    "file_cone='debug_bTag_AntiKtVR30Rmax4Rmin02TrackJets_BTagging201903_DIAGjetlab.root'"
   ]
  },
  {
   "cell_type": "code",
   "execution_count": 4,
   "metadata": {},
   "outputs": [],
   "source": []
  },
  {
   "cell_type": "code",
   "execution_count": 7,
   "metadata": {},
   "outputs": [
    {
     "name": "stdout",
     "output_type": "stream",
     "text": [
      "Maximum efficiency \\epsilon: ip2d, ip3d, rnnip, sv1, jf, dl1\n",
      "0.9891344666615343 0.9928123009735238 1.0 0.7528712303073144 0.8904803230615259 1.0\n",
      "0.9947512135922331 0.9950091019417475 1.0 0.27591019417475726 0.5540655339805826 1.0\n",
      "0.9813434111243089 0.9811468685642993 1.0 0.03003255770233202 0.23173863257650207 1.0\n",
      "0.0\r"
     ]
    },
    {
     "name": "stderr",
     "output_type": "stream",
     "text": [
      "<ipython-input-1-cc9785fe9a71>:155: RuntimeWarning: divide by zero encountered in double_scalars\n",
      "  empf201903_rocip2d_rej=np.append(empf201903_rocip2d_rej,1./y)\n",
      "<ipython-input-1-cc9785fe9a71>:156: RuntimeWarning: divide by zero encountered in double_scalars\n",
      "  empf201903_rocip2d_rej_c=np.append(empf201903_rocip2d_rej_c,1./y_c)\n",
      "<ipython-input-1-cc9785fe9a71>:162: RuntimeWarning: divide by zero encountered in double_scalars\n",
      "  empf201903_rocip3d_rej=np.append(empf201903_rocip3d_rej,1./y)\n",
      "<ipython-input-1-cc9785fe9a71>:163: RuntimeWarning: divide by zero encountered in double_scalars\n",
      "  empf201903_rocip3d_rej_c=np.append(empf201903_rocip3d_rej_c,1./y_c)\n",
      "<ipython-input-1-cc9785fe9a71>:169: RuntimeWarning: divide by zero encountered in double_scalars\n",
      "  empf201903_rocrnnip_rej=np.append(empf201903_rocrnnip_rej,1./y)\n",
      "<ipython-input-1-cc9785fe9a71>:170: RuntimeWarning: divide by zero encountered in double_scalars\n",
      "  empf201903_rocrnnip_rej_c=np.append(empf201903_rocrnnip_rej_c,1./y_c)\n",
      "<ipython-input-1-cc9785fe9a71>:176: RuntimeWarning: divide by zero encountered in double_scalars\n",
      "  empf201903_rocsv1_rej=np.append(empf201903_rocsv1_rej,1./y)\n",
      "<ipython-input-1-cc9785fe9a71>:177: RuntimeWarning: divide by zero encountered in double_scalars\n",
      "  empf201903_rocsv1_rej_c=np.append(empf201903_rocsv1_rej_c,1./y_c)\n",
      "<ipython-input-1-cc9785fe9a71>:183: RuntimeWarning: divide by zero encountered in double_scalars\n",
      "  empf201903_rocjf_rej=np.append(empf201903_rocjf_rej,1./y)\n",
      "<ipython-input-1-cc9785fe9a71>:184: RuntimeWarning: divide by zero encountered in double_scalars\n",
      "  empf201903_rocjf_rej_c=np.append(empf201903_rocjf_rej_c,1./y_c)\n",
      "<ipython-input-1-cc9785fe9a71>:190: RuntimeWarning: divide by zero encountered in double_scalars\n",
      "  empf201903_rocdl1_rej=np.append(empf201903_rocdl1_rej,1./y)\n",
      "<ipython-input-1-cc9785fe9a71>:191: RuntimeWarning: divide by zero encountered in double_scalars\n",
      "  empf201903_rocdl1_rej_c=np.append(empf201903_rocdl1_rej_c,1./y_c)\n"
     ]
    },
    {
     "name": "stdout",
     "output_type": "stream",
     "text": [
      "679992857142857143565\n"
     ]
    }
   ],
   "source": [
    "EMPFlow_DIAG=algs(path,file_empflow,algos)"
   ]
  },
  {
   "cell_type": "code",
   "execution_count": 9,
   "metadata": {},
   "outputs": [],
   "source": [
    "with open('EMPFlow_DIAG.pkl', 'wb') as output:\n",
    "    pickle.dump(EMPFlow_DIAG, output, pickle.HIGHEST_PROTOCOL)"
   ]
  },
  {
   "cell_type": "code",
   "execution_count": 13,
   "metadata": {},
   "outputs": [
    {
     "name": "stdout",
     "output_type": "stream",
     "text": [
      "Maximum efficiency \\epsilon: ip2d, ip3d, rnnip, sv1, jf, dl1\n",
      "0.9916082359488035 0.9953181227972547 0.9982786125023186 0.7887590428491931 0.0 1.0\n",
      "0.9984795791754776 0.9987242445955157 0.9993184320441796 0.31616015099351635 0.0 1.0\n",
      "0.976195343958613 0.9759820087289665 0.97641164217756 0.03984924310438315 0.0 1.0\n",
      "0.0007142857142857143"
     ]
    },
    {
     "name": "stderr",
     "output_type": "stream",
     "text": [
      "<ipython-input-1-cc9785fe9a71>:155: RuntimeWarning: divide by zero encountered in double_scalars\n",
      "  empf201903_rocip2d_rej=np.append(empf201903_rocip2d_rej,1./y)\n",
      "<ipython-input-1-cc9785fe9a71>:156: RuntimeWarning: divide by zero encountered in double_scalars\n",
      "  empf201903_rocip2d_rej_c=np.append(empf201903_rocip2d_rej_c,1./y_c)\n",
      "<ipython-input-1-cc9785fe9a71>:162: RuntimeWarning: divide by zero encountered in double_scalars\n",
      "  empf201903_rocip3d_rej=np.append(empf201903_rocip3d_rej,1./y)\n",
      "<ipython-input-1-cc9785fe9a71>:163: RuntimeWarning: divide by zero encountered in double_scalars\n",
      "  empf201903_rocip3d_rej_c=np.append(empf201903_rocip3d_rej_c,1./y_c)\n",
      "<ipython-input-1-cc9785fe9a71>:169: RuntimeWarning: divide by zero encountered in double_scalars\n",
      "  empf201903_rocrnnip_rej=np.append(empf201903_rocrnnip_rej,1./y)\n",
      "<ipython-input-1-cc9785fe9a71>:170: RuntimeWarning: divide by zero encountered in double_scalars\n",
      "  empf201903_rocrnnip_rej_c=np.append(empf201903_rocrnnip_rej_c,1./y_c)\n",
      "<ipython-input-1-cc9785fe9a71>:176: RuntimeWarning: divide by zero encountered in double_scalars\n",
      "  empf201903_rocsv1_rej=np.append(empf201903_rocsv1_rej,1./y)\n",
      "<ipython-input-1-cc9785fe9a71>:177: RuntimeWarning: divide by zero encountered in double_scalars\n",
      "  empf201903_rocsv1_rej_c=np.append(empf201903_rocsv1_rej_c,1./y_c)\n",
      "<ipython-input-1-cc9785fe9a71>:190: RuntimeWarning: divide by zero encountered in double_scalars\n",
      "  empf201903_rocdl1_rej=np.append(empf201903_rocdl1_rej,1./y)\n",
      "<ipython-input-1-cc9785fe9a71>:191: RuntimeWarning: divide by zero encountered in double_scalars\n",
      "  empf201903_rocdl1_rej_c=np.append(empf201903_rocdl1_rej_c,1./y_c)\n"
     ]
    },
    {
     "name": "stdout",
     "output_type": "stream",
     "text": [
      "679992857142857143565\n"
     ]
    }
   ],
   "source": [
    "ghost_DIAG=algs(path,file_ghost,algos)"
   ]
  },
  {
   "cell_type": "code",
   "execution_count": 14,
   "metadata": {},
   "outputs": [],
   "source": [
    "with open('ghost_DIAG.pkl', 'wb') as output:\n",
    "    pickle.dump(ghost_DIAG, output, pickle.HIGHEST_PROTOCOL)"
   ]
  },
  {
   "cell_type": "code",
   "execution_count": 18,
   "metadata": {},
   "outputs": [
    {
     "name": "stdout",
     "output_type": "stream",
     "text": [
      "Maximum efficiency \\epsilon: ip2d, ip3d, rnnip, sv1, jf, dl1\n",
      "0.9916824336857726 0.9953960304210722 1.0 0.7879762567241699 0.0 1.0\n",
      "0.9985844357840653 0.9988291012041034 1.0 0.31451739745897483 0.0 0.9999825238985687\n",
      "0.9773509097858648 0.9771405375455189 1.0 0.03835589649685775 0.0 0.9998844434172748\n",
      "0.0\r"
     ]
    },
    {
     "name": "stderr",
     "output_type": "stream",
     "text": [
      "<ipython-input-1-cc9785fe9a71>:155: RuntimeWarning: divide by zero encountered in double_scalars\n",
      "  empf201903_rocip2d_rej=np.append(empf201903_rocip2d_rej,1./y)\n",
      "<ipython-input-1-cc9785fe9a71>:156: RuntimeWarning: divide by zero encountered in double_scalars\n",
      "  empf201903_rocip2d_rej_c=np.append(empf201903_rocip2d_rej_c,1./y_c)\n",
      "<ipython-input-1-cc9785fe9a71>:162: RuntimeWarning: divide by zero encountered in double_scalars\n",
      "  empf201903_rocip3d_rej=np.append(empf201903_rocip3d_rej,1./y)\n",
      "<ipython-input-1-cc9785fe9a71>:163: RuntimeWarning: divide by zero encountered in double_scalars\n",
      "  empf201903_rocip3d_rej_c=np.append(empf201903_rocip3d_rej_c,1./y_c)\n",
      "<ipython-input-1-cc9785fe9a71>:169: RuntimeWarning: divide by zero encountered in double_scalars\n",
      "  empf201903_rocrnnip_rej=np.append(empf201903_rocrnnip_rej,1./y)\n",
      "<ipython-input-1-cc9785fe9a71>:170: RuntimeWarning: divide by zero encountered in double_scalars\n",
      "  empf201903_rocrnnip_rej_c=np.append(empf201903_rocrnnip_rej_c,1./y_c)\n",
      "<ipython-input-1-cc9785fe9a71>:176: RuntimeWarning: divide by zero encountered in double_scalars\n",
      "  empf201903_rocsv1_rej=np.append(empf201903_rocsv1_rej,1./y)\n",
      "<ipython-input-1-cc9785fe9a71>:177: RuntimeWarning: divide by zero encountered in double_scalars\n",
      "  empf201903_rocsv1_rej_c=np.append(empf201903_rocsv1_rej_c,1./y_c)\n",
      "<ipython-input-1-cc9785fe9a71>:190: RuntimeWarning: divide by zero encountered in double_scalars\n",
      "  empf201903_rocdl1_rej=np.append(empf201903_rocdl1_rej,1./y)\n",
      "<ipython-input-1-cc9785fe9a71>:191: RuntimeWarning: divide by zero encountered in double_scalars\n",
      "  empf201903_rocdl1_rej_c=np.append(empf201903_rocdl1_rej_c,1./y_c)\n"
     ]
    },
    {
     "name": "stdout",
     "output_type": "stream",
     "text": [
      "679992857142857143565\n"
     ]
    }
   ],
   "source": [
    "cone_DIAG=algs(path,file_cone,algos)"
   ]
  },
  {
   "cell_type": "code",
   "execution_count": 19,
   "metadata": {},
   "outputs": [],
   "source": [
    "with open('cone_DIAG.pkl', 'wb') as output:\n",
    "    pickle.dump(cone_DIAG, output, pickle.HIGHEST_PROTOCOL)"
   ]
  },
  {
   "cell_type": "code",
   "execution_count": null,
   "metadata": {},
   "outputs": [],
   "source": []
  },
  {
   "cell_type": "code",
   "execution_count": null,
   "metadata": {},
   "outputs": [],
   "source": []
  },
  {
   "cell_type": "code",
   "execution_count": 20,
   "metadata": {},
   "outputs": [],
   "source": [
    "with open('ghost_DIAG.pkl', 'rb') as input:\n",
    "    ghost_DIAG_copy = pickle.load(input)"
   ]
  },
  {
   "cell_type": "code",
   "execution_count": 21,
   "metadata": {},
   "outputs": [],
   "source": [
    "with open('EMPFlow_DIAG.pkl', 'rb') as input:\n",
    "    EMPFlow_DIAG_copy = pickle.load(input)"
   ]
  },
  {
   "cell_type": "code",
   "execution_count": 22,
   "metadata": {},
   "outputs": [],
   "source": [
    "with open('cone_DIAG.pkl', 'rb') as input:\n",
    "    cone_DIAG_copy = pickle.load(input)"
   ]
  },
  {
   "cell_type": "code",
   "execution_count": null,
   "metadata": {},
   "outputs": [],
   "source": []
  }
 ],
 "metadata": {
  "kernelspec": {
   "display_name": "Python 3",
   "language": "python",
   "name": "python3"
  },
  "language_info": {
   "codemirror_mode": {
    "name": "ipython",
    "version": 3
   },
   "file_extension": ".py",
   "mimetype": "text/x-python",
   "name": "python",
   "nbconvert_exporter": "python",
   "pygments_lexer": "ipython3",
   "version": "3.8.5"
  }
 },
 "nbformat": 4,
 "nbformat_minor": 4
}
